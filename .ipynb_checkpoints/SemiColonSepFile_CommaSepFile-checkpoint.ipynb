{
 "cells": [
  {
   "cell_type": "code",
   "execution_count": 13,
   "metadata": {
    "collapsed": false
   },
   "outputs": [
    {
     "name": "stdout",
     "output_type": "stream",
     "text": [
      "Enter the directory: C:\\Users\\Evan\\Documents\\PhD\\AHKTests\\TestWK3\n",
      "Found 8 csv files in directory C:/Users/Evan/Documents/PhD/AHKTests/TestWK3\n",
      "All done :)\n"
     ]
    }
   ],
   "source": [
    "directoryInput = input('Enter the directory: ')\n",
    "directory = directoryInput.replace(\"\\\\\", \"/\")\n",
    "\n",
    "import os\n",
    "\n",
    "fileHolder = []\n",
    "fileCounter = 0\n",
    "\n",
    "#TIM Connect Software outputs a .csv file when it saves a snapshot as a (imagedata).csv\n",
    "for file in os.listdir(directory):\n",
    "    if file.endswith(\".csv\"):\n",
    "        fileHolder.append(os.path.join(directory, file))\n",
    "        fileCounter = fileCounter + 1\n",
    "print(\"Found %d csv files in directory %s\" % (fileCounter, directory))\n",
    "\n",
    "for i in range(fileCounter):\n",
    "    #Creates a new csv file for every existing one with the same name + ending _InCSV\n",
    "    outputFileName = fileHolder[i][:-4] + '_InCSV.csv'\n",
    "    with open(outputFileName, 'w') as outputFile:\n",
    "        with open(fileHolder[i], 'r') as inputFile:\n",
    "            fileLines = inputFile.read().split(\"\\n\")\n",
    "            #For each row in the original csv file, replaces the ; with , to make it a true csv file, writing to\n",
    "            #new csv file when done\n",
    "            for j in range(len(fileLines)):\n",
    "                row = (fileLines[j]).replace(';', ',') + '\\n'\n",
    "                outputFile.write(row)\n",
    "                \n",
    "print(\"All done :)\")"
   ]
  },
  {
   "cell_type": "code",
   "execution_count": null,
   "metadata": {
    "collapsed": true
   },
   "outputs": [],
   "source": []
  }
 ],
 "metadata": {
  "kernelspec": {
   "display_name": "Python [Root]",
   "language": "python",
   "name": "Python [Root]"
  },
  "language_info": {
   "codemirror_mode": {
    "name": "ipython",
    "version": 3
   },
   "file_extension": ".py",
   "mimetype": "text/x-python",
   "name": "python",
   "nbconvert_exporter": "python",
   "pygments_lexer": "ipython3",
   "version": "3.5.2"
  }
 },
 "nbformat": 4,
 "nbformat_minor": 2
}
