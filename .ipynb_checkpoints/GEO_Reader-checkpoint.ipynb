{
 "cells": [
  {
   "cell_type": "code",
   "execution_count": 39,
   "metadata": {
    "collapsed": false
   },
   "outputs": [
    {
     "name": "stdout",
     "output_type": "stream",
     "text": [
      "Enter the directory: C:\\Users\\Evan\\Documents\\PhD\\AHKTests\\TestWK3\n",
      "Found 8 geo files in directory C:/Users/Evan/Documents/PhD/AHKTests/TestWK3\n",
      "All done :)\n"
     ]
    }
   ],
   "source": [
    "directoryInput = input('Enter the directory: ')\n",
    "directory = directoryInput.replace(\"\\\\\", \"/\")\n",
    "\n",
    "import os\n",
    "\n",
    "fileHolder = []\n",
    "fileCounter = 0\n",
    "\n",
    "#TIM Connect Software outputs a .geo file (still a .txt) when it saves a snapshot as a .tiff\n",
    "for file in os.listdir(directory):\n",
    "    if file.endswith(\".txt\"):\n",
    "        fileHolder.append(os.path.join(directory, file))\n",
    "        fileCounter = fileCounter + 1\n",
    "print(\"Found %d geo files in directory %s\" % (fileCounter, directory))\n",
    "\n",
    "#The lat and long are in the format of degrees then minutes, with the minutes as a decimal so need conveted to seconds\n",
    "#Only works assuming latitude is N and longitude is W\n",
    "def decimalDegrees(coord, ver):\n",
    "    if ver == 'lat':\n",
    "        decimal = float(coord[:2]) + float(coord[2:])/60\n",
    "    if ver == 'long':\n",
    "        decimal = -1*(float(coord[:3]) + float(coord[3:])/60)\n",
    "    return decimal\n",
    "\n",
    "with open(directory+'/TimData.csv', 'w') as outputFile:\n",
    "    \n",
    "    firstRow = 'Image Name' + ',' + 'Latitude' + ',' + 'Longitude' + ',' + 'Time' + ',' + 'Date' + '\\n'\n",
    "    outputFile.write(firstRow)\n",
    "\n",
    "    for i in range(fileCounter):\n",
    "        with open(fileHolder[i], 'r') as geoFile:\n",
    "            fileLines = geoFile.read().split(\"\\n\")\n",
    "            time = fileLines[2][-8:]\n",
    "            date = fileLines[3][-8:]\n",
    "            #Find where in the first line of the file the lat and long are printed\n",
    "            nChar = fileLines[0].find('N')\n",
    "            wChar = fileLines[0].find('W')\n",
    "            #Strip out the lat and long from the first line of the file\n",
    "            lat = fileLines[0][(nChar-11):(nChar-1)]\n",
    "            long = fileLines[0][(wChar-12):(wChar-1)]\n",
    "            #Convert lat and long from degrees and minutes to decimal degrees\n",
    "            lat = decimalDegrees(lat, 'lat')\n",
    "            long = decimalDegrees(long, 'long')\n",
    "            \n",
    "            geoName = (fileHolder[i]).split('\\\\')\n",
    "            imageName = geoName[-1][0:-8] + '.tiff'\n",
    "            \n",
    "            row = imageName + ',' + str(lat) + ',' + str(long) + ',' + time + ',' + date + '\\n'\n",
    "            outputFile.write(row)\n",
    "\n",
    "print(\"All done :)\")  "
   ]
  },
  {
   "cell_type": "code",
   "execution_count": null,
   "metadata": {
    "collapsed": true
   },
   "outputs": [],
   "source": []
  }
 ],
 "metadata": {
  "kernelspec": {
   "display_name": "Python [Root]",
   "language": "python",
   "name": "Python [Root]"
  },
  "language_info": {
   "codemirror_mode": {
    "name": "ipython",
    "version": 3
   },
   "file_extension": ".py",
   "mimetype": "text/x-python",
   "name": "python",
   "nbconvert_exporter": "python",
   "pygments_lexer": "ipython3",
   "version": "3.5.2"
  }
 },
 "nbformat": 4,
 "nbformat_minor": 2
}
