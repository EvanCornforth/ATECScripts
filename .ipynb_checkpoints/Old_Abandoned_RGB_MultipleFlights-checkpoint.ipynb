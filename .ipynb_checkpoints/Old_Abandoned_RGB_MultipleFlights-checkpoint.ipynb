{
 "cells": [
  {
   "cell_type": "markdown",
   "metadata": {},
   "source": [
    "## To Do\n",
    "\n",
    "1. Some way of splitting jpeg time list into different flights\n",
    "2. Need mission start and end times for each flight\n",
    "3. Then match times from jpeg list with flight list to attribute each jpeg to a lat/long/alt\n",
    "4. Write csv file for each flight with columns Image File Name/Lat/Long/Altitude\n",
    "5. Re folder into flights, then mission and not mission data\n",
    "\n",
    "## Set Up\n",
    "\n",
    "1. In the directory there are all the jpegs, and also the arw images too\n",
    "2. csv file with Image Names and Image Times from previous script\n",
    "3. A subdirectory, let's say entitle 'FlightLogs', with all the pertinent flight logs inside (csv format)"
   ]
  },
  {
   "cell_type": "code",
   "execution_count": 56,
   "metadata": {
    "collapsed": false
   },
   "outputs": [
    {
     "name": "stdout",
     "output_type": "stream",
     "text": [
      "All done :)\n"
     ]
    }
   ],
   "source": [
    "with open('jpgImageTimes.csv') as jpgFile:\n",
    "    jpgFileLines = jpgFile.read().split(\"\\n\")\n",
    "    jpgImageNames = [(jpgFileLines[x]).split(',')[0] for x in range(0, len(jpgFileLines)-1)]\n",
    "    jpgImageTimes = [(jpgFileLines[x]).split(',')[1] for x in range(0, len(jpgFileLines)-1)]\n",
    "       \n",
    "def howManySecs(clockFace):\n",
    "    secs = int(clockFace[-2:]) + 60*int(clockFace[3:5]) + 60*60*int(clockFace[:2])\n",
    "    return secs\n",
    "\n",
    "jpgImageSeconds = []\n",
    "for j in range(1, len(jpgFileLines)-1):\n",
    "    jpgImageSeconds.append(howManySecs(jpgImageTimes[j]))\n",
    "\n",
    "with open('jpgImageTimes2.csv', 'w') as jpgFile:\n",
    "    flightNum = 'Flight'\n",
    "    flightCount = 1\n",
    "    flightTriggerTime = 120\n",
    "    firstRow = jpgImageNames[0] + \",\" + jpgImageTimes[0] + \",\" + \"Flight\" + \",\" + \"Seconds\" + \"\\n\"\n",
    "    jpgFile.write(firstRow)\n",
    "    secondRow = jpgImageNames[1] + \",\" + jpgImageTimes[1] + \",\" + flightNum + str(flightCount) + \",\" + str(jpgImageSeconds[0]) + \"\\n\"\n",
    "    jpgFile.write(secondRow)\n",
    "    for i in range(1, len(jpgFileLines)-2):\n",
    "        if jpgImageSeconds[i] - jpgImageSeconds[i-1] < flightTriggerTime:\n",
    "            row = jpgImageNames[i+1] + \",\" + jpgImageTimes[i+1] + \",\" + flightNum +  str(flightCount) + \",\" + str(jpgImageSeconds[i]) + \"\\n\"\n",
    "            jpgFile.write(row)\n",
    "        else:\n",
    "            flightCount = flightCount + 1\n",
    "            row = jpgImageNames[i+1] + \",\" + jpgImageTimes[i+1] + \",\" + flightNum +  str(flightCount) + \",\" + str(jpgImageSeconds[i]) + \"\\n\"\n",
    "            jpgFile.write(row)\n",
    "        \n",
    "print(\"All done :)\")        "
   ]
  },
  {
   "cell_type": "code",
   "execution_count": null,
   "metadata": {
    "collapsed": false
   },
   "outputs": [],
   "source": []
  },
  {
   "cell_type": "code",
   "execution_count": 70,
   "metadata": {
    "collapsed": false
   },
   "outputs": [
    {
     "name": "stdout",
     "output_type": "stream",
     "text": [
      "FLY380.csv\n",
      "FLY381.csv\n",
      "Completed: C:/Users/Evan/Anaconda3/.ipynb_checkpoints/JPGTest/FLY380.csv\n",
      "Completed: C:/Users/Evan/Anaconda3/.ipynb_checkpoints/JPGTest/FLY381.csv\n"
     ]
    }
   ],
   "source": [
    "flightLogDirectory = 'C:/Users/Evan/Anaconda3/.ipynb_checkpoints/JPGTest/'\n",
    "\n",
    "import os\n",
    "\n",
    "fileHolder = []\n",
    "fileCounter = 0\n",
    "for file in os.listdir(flightLogDirectory):\n",
    "    if file.endswith(\".csv\"):\n",
    "        fileHolder.append(os.path.join(flightLogDirectory, file))\n",
    "        print(file)\n",
    "        fileCounter = fileCounter + 1\n",
    "\n",
    "fileCount = 0        \n",
    "for fileName in fileHolder:\n",
    "    with open(fileName) as flightFile:      \n",
    "        flightFileLines = flightFile.read().split(\"\\n\")\n",
    "    \n",
    "    camShotLine = []\n",
    "    word = 'SUCCESSED SIMPLE_SHOT'\n",
    "   \n",
    "    for i,line in enumerate(flightFileLines):\n",
    "        if word in line: # or word in line.split() to search for full words\n",
    "            camShotLine.append(i)\n",
    "        \n",
    "    missionRangeLine = []\n",
    "    startWord = '[L-MIS]WP Mission: received idle vel cmd 3'\n",
    "    endWord = '[L-OSD]Mission finished. now I tell app:'\n",
    "   \n",
    "    for i,line in enumerate(flightFileLines):\n",
    "        if startWord in line: # or word in line.split() to search for full words\n",
    "            missionRangeLine.append(i)\n",
    "            missStartLine = i\n",
    "#            print(\"Word \\\"{}\\\" found in line {}\".format(startWord, i))\n",
    "\n",
    "    for j,line in enumerate(flightFileLines):\n",
    "        if endWord in line: # or word in line.split() to search for full words\n",
    "            missionRangeLine.append(j)\n",
    "            missEndLine = j\n",
    "#            print(\"Word \\\"{}\\\" found in line {}\".format(endWord, j))\n",
    "             \n",
    "    potMatch = len(camShotLine)\n",
    "    potMatchLines = [flightFileLines[x] for x in camShotLine]\n",
    "\n",
    "    dateWord = '|#SiF%|2'\n",
    "\n",
    "    times = []\n",
    "\n",
    "    for y in range(potMatch):\n",
    "        charDateWord = potMatchLines[y][(potMatchLines[y].find(dateWord)+7):((potMatchLines[y].find(dateWord)+15))]\n",
    "        if potMatchLines[y].find(charDateWord+\".0\")>1:\n",
    "            times.append(potMatchLines[y][(potMatchLines[y].find(charDateWord+\".0\")+9):((potMatchLines[y].find(charDateWord+\".0\")+17))])\n",
    "        elif potMatchLines[y].find(charDateWord+\".1\")>1:  \n",
    "            times.append(potMatchLines[y][(potMatchLines[y].find(charDateWord+\".1\")+9):((potMatchLines[y].find(charDateWord+\".1\")+17))])\n",
    "        elif potMatchLines[y].find(charDateWord+\".2\")>1:\n",
    "            times.append(potMatchLines[y][(potMatchLines[y].find(charDateWord+\".2\")+9):((potMatchLines[y].find(charDateWord+\".2\")+17))])\n",
    "        \n",
    "    flightTimes = [(flightFileLines[x]).split(',')[1] for x in camShotLine]\n",
    "\n",
    "    missStartFlightTime = (flightFileLines[missStartLine]).split(',')[1]\n",
    "    missFinishFlightTime = (flightFileLines[missEndLine]).split(',')[1]\n",
    "    flightTimeDiffs = [float(missStartFlightTime)-float(flightTimes[0]), float(missFinishFlightTime)-float(flightTimes[0])]\n",
    "    realFlightTimes = [0,0]\n",
    "    for j in range(2):\n",
    "        timeHolder = (times[0]).split(':')\n",
    "        for i in range(3):\n",
    "            timeHolder[i] = float(timeHolder[i])\n",
    "        timeHolder[2] = timeHolder[2] + flightTimeDiffs[j]\n",
    "        while timeHolder[2] >= 60:\n",
    "            timeHolder[2] = timeHolder[2] - 60\n",
    "            timeHolder[1] = timeHolder[1] + 1\n",
    "            while timeHolder[1] >= 60:\n",
    "                timeHolder[1] = timeHolder[1] - 60\n",
    "                timeHolder[0] = timeHolder[0] + 1\n",
    "        while timeHolder[2] <= 0:\n",
    "            timeHolder[2] = timeHolder[2] + 60\n",
    "            timeHolder[1] = timeHolder[1] - 1\n",
    "            while timeHolder[1] <= 0:\n",
    "                timeHolder[1] = timeHolder[1] + 60\n",
    "                timeholder[0] = timeHolder[0] - 1\n",
    "        realFlightTimes[j] = timeHolder\n",
    " \n",
    "    offsetTimes = [(flightFileLines[x]).split(',')[1] for x in range(missionRangeLine[0], missionRangeLine[1]+1)]\n",
    "    longitudes = [(flightFileLines[x]).split(',')[3] for x in range(missionRangeLine[0], missionRangeLine[1]+1)]\n",
    "    latitudes = [(flightFileLines[x]).split(',')[4] for x in range(missionRangeLine[0], missionRangeLine[1]+1)]\n",
    "    altitudes = [(flightFileLines[x]).split(',')[10] for x in range(missionRangeLine[0], missionRangeLine[1]+1)]\n",
    "\n",
    "    startSecond = 60*60*realFlightTimes[0][0] + 60*realFlightTimes[0][1] + realFlightTimes[0][2]\n",
    "    endSecond = 60*60*realFlightTimes[1][0] + 60*realFlightTimes[1][1] + realFlightTimes[1][2]\n",
    "    initialOffsetTime = offsetTimes[0]\n",
    "    \n",
    "    if fileCount == 0:\n",
    "        with open('jpgFlightFile.csv', 'w') as outputFlightFile:\n",
    "            firstRow = \"Seconds\" + \",\" + \"Longitude\" + \",\" + \"Latitude\" + \",\" + \"Altitude\"\n",
    "            outputFlightFile.write(firstRow)\n",
    "            \n",
    "    with open('jpgFlightFile.csv', 'w') as outputFlightFile:\n",
    "        for d in range(len(jpgDataLines)-1):\n",
    "            if d != len(jpgDataLines)-2:\n",
    "                row = jpgDataLines[d] + \"\\n\"\n",
    "                outputFlightFile.write(row)\n",
    "            else:\n",
    "                row = jpgDataLines[d]\n",
    "                outputFlightFile.write(row)\n",
    "        outputFlightFile.write(\"\\n\")\n",
    "        for i in range(missionRangeLine[1]-missionRangeLine[0]+1):  #I took out the +/- 20 buffer here, maybe erroneously\n",
    "            addedTime = float(offsetTimes[i]) - float(initialOffsetTime)\n",
    "            timeInSeconds = startSecond + addedTime\n",
    "            row =  str(timeInSeconds) + \",\" + longitudes[i] + \",\" + latitudes[i] + \",\" + altitudes[i] + \"\\n\"\n",
    "            outputFlightFile.write(row)\n",
    "            \n",
    "    fileCount = fileCount + 1\n",
    "    print(\"Completed:\", fileName)"
   ]
  },
  {
   "cell_type": "code",
   "execution_count": null,
   "metadata": {
    "collapsed": true
   },
   "outputs": [],
   "source": []
  },
  {
   "cell_type": "code",
   "execution_count": 65,
   "metadata": {
    "collapsed": false
   },
   "outputs": [
    {
     "name": "stdout",
     "output_type": "stream",
     "text": [
      "5\n"
     ]
    },
    {
     "ename": "IndexError",
     "evalue": "list index out of range",
     "output_type": "error",
     "traceback": [
      "\u001b[1;31m---------------------------------------------------------------------------\u001b[0m",
      "\u001b[1;31mIndexError\u001b[0m                                Traceback (most recent call last)",
      "\u001b[1;32m<ipython-input-65-87822015344e>\u001b[0m in \u001b[0;36m<module>\u001b[1;34m()\u001b[0m\n\u001b[0;32m      9\u001b[0m \u001b[0mprint\u001b[0m\u001b[1;33m(\u001b[0m\u001b[0mx\u001b[0m\u001b[1;33m)\u001b[0m\u001b[1;33m\u001b[0m\u001b[0m\n\u001b[0;32m     10\u001b[0m \u001b[0mjpgSeconds\u001b[0m \u001b[1;33m=\u001b[0m \u001b[1;33m[\u001b[0m\u001b[1;33m(\u001b[0m\u001b[0mjpgLines\u001b[0m\u001b[1;33m[\u001b[0m\u001b[0mx\u001b[0m\u001b[1;33m]\u001b[0m\u001b[1;33m)\u001b[0m\u001b[1;33m.\u001b[0m\u001b[0msplit\u001b[0m\u001b[1;33m(\u001b[0m\u001b[1;34m','\u001b[0m\u001b[1;33m)\u001b[0m\u001b[1;33m[\u001b[0m\u001b[1;36m3\u001b[0m\u001b[1;33m]\u001b[0m \u001b[1;32mfor\u001b[0m \u001b[0mx\u001b[0m \u001b[1;32min\u001b[0m \u001b[0mrange\u001b[0m\u001b[1;33m(\u001b[0m\u001b[1;36m1\u001b[0m\u001b[1;33m,\u001b[0m \u001b[0mlen\u001b[0m\u001b[1;33m(\u001b[0m\u001b[0mjpgLines\u001b[0m\u001b[1;33m)\u001b[0m\u001b[1;33m-\u001b[0m\u001b[1;36m1\u001b[0m\u001b[1;33m)\u001b[0m\u001b[1;33m]\u001b[0m\u001b[1;33m\u001b[0m\u001b[0m\n\u001b[1;32m---> 11\u001b[1;33m \u001b[0mlongitudes\u001b[0m \u001b[1;33m=\u001b[0m \u001b[1;33m[\u001b[0m\u001b[1;33m(\u001b[0m\u001b[0mmissionLines\u001b[0m\u001b[1;33m[\u001b[0m\u001b[0mx\u001b[0m\u001b[1;33m]\u001b[0m\u001b[1;33m)\u001b[0m\u001b[1;33m.\u001b[0m\u001b[0msplit\u001b[0m\u001b[1;33m(\u001b[0m\u001b[1;34m','\u001b[0m\u001b[1;33m)\u001b[0m\u001b[1;33m[\u001b[0m\u001b[1;36m1\u001b[0m\u001b[1;33m]\u001b[0m \u001b[1;32mfor\u001b[0m \u001b[0mx\u001b[0m \u001b[1;32min\u001b[0m \u001b[0mrange\u001b[0m\u001b[1;33m(\u001b[0m\u001b[1;36m1\u001b[0m\u001b[1;33m,\u001b[0m \u001b[0mlen\u001b[0m\u001b[1;33m(\u001b[0m\u001b[0mmissionLines\u001b[0m\u001b[1;33m)\u001b[0m\u001b[1;33m-\u001b[0m\u001b[1;36m1\u001b[0m\u001b[1;33m)\u001b[0m\u001b[1;33m]\u001b[0m\u001b[1;33m\u001b[0m\u001b[0m\n\u001b[0m\u001b[0;32m     12\u001b[0m \u001b[0mlatitudes\u001b[0m \u001b[1;33m=\u001b[0m \u001b[1;33m[\u001b[0m\u001b[1;33m(\u001b[0m\u001b[0mmissionLines\u001b[0m\u001b[1;33m[\u001b[0m\u001b[0mx\u001b[0m\u001b[1;33m]\u001b[0m\u001b[1;33m)\u001b[0m\u001b[1;33m.\u001b[0m\u001b[0msplit\u001b[0m\u001b[1;33m(\u001b[0m\u001b[1;34m','\u001b[0m\u001b[1;33m)\u001b[0m\u001b[1;33m[\u001b[0m\u001b[1;36m2\u001b[0m\u001b[1;33m]\u001b[0m \u001b[1;32mfor\u001b[0m \u001b[0mx\u001b[0m \u001b[1;32min\u001b[0m \u001b[0mrange\u001b[0m\u001b[1;33m(\u001b[0m\u001b[1;36m1\u001b[0m\u001b[1;33m,\u001b[0m \u001b[0mlen\u001b[0m\u001b[1;33m(\u001b[0m\u001b[0mmissionLines\u001b[0m\u001b[1;33m)\u001b[0m\u001b[1;33m-\u001b[0m\u001b[1;36m1\u001b[0m\u001b[1;33m)\u001b[0m\u001b[1;33m]\u001b[0m\u001b[1;33m\u001b[0m\u001b[0m\n\u001b[0;32m     13\u001b[0m \u001b[0maltitudes\u001b[0m \u001b[1;33m=\u001b[0m \u001b[1;33m[\u001b[0m\u001b[1;33m(\u001b[0m\u001b[0mmissionLines\u001b[0m\u001b[1;33m[\u001b[0m\u001b[0mx\u001b[0m\u001b[1;33m]\u001b[0m\u001b[1;33m)\u001b[0m\u001b[1;33m.\u001b[0m\u001b[0msplit\u001b[0m\u001b[1;33m(\u001b[0m\u001b[1;34m','\u001b[0m\u001b[1;33m)\u001b[0m\u001b[1;33m[\u001b[0m\u001b[1;36m3\u001b[0m\u001b[1;33m]\u001b[0m \u001b[1;32mfor\u001b[0m \u001b[0mx\u001b[0m \u001b[1;32min\u001b[0m \u001b[0mrange\u001b[0m\u001b[1;33m(\u001b[0m\u001b[1;36m1\u001b[0m\u001b[1;33m,\u001b[0m \u001b[0mlen\u001b[0m\u001b[1;33m(\u001b[0m\u001b[0mmissionLines\u001b[0m\u001b[1;33m)\u001b[0m\u001b[1;33m-\u001b[0m\u001b[1;36m1\u001b[0m\u001b[1;33m)\u001b[0m\u001b[1;33m]\u001b[0m\u001b[1;33m\u001b[0m\u001b[0m\n",
      "\u001b[1;32m<ipython-input-65-87822015344e>\u001b[0m in \u001b[0;36m<listcomp>\u001b[1;34m(.0)\u001b[0m\n\u001b[0;32m      9\u001b[0m \u001b[0mprint\u001b[0m\u001b[1;33m(\u001b[0m\u001b[0mx\u001b[0m\u001b[1;33m)\u001b[0m\u001b[1;33m\u001b[0m\u001b[0m\n\u001b[0;32m     10\u001b[0m \u001b[0mjpgSeconds\u001b[0m \u001b[1;33m=\u001b[0m \u001b[1;33m[\u001b[0m\u001b[1;33m(\u001b[0m\u001b[0mjpgLines\u001b[0m\u001b[1;33m[\u001b[0m\u001b[0mx\u001b[0m\u001b[1;33m]\u001b[0m\u001b[1;33m)\u001b[0m\u001b[1;33m.\u001b[0m\u001b[0msplit\u001b[0m\u001b[1;33m(\u001b[0m\u001b[1;34m','\u001b[0m\u001b[1;33m)\u001b[0m\u001b[1;33m[\u001b[0m\u001b[1;36m3\u001b[0m\u001b[1;33m]\u001b[0m \u001b[1;32mfor\u001b[0m \u001b[0mx\u001b[0m \u001b[1;32min\u001b[0m \u001b[0mrange\u001b[0m\u001b[1;33m(\u001b[0m\u001b[1;36m1\u001b[0m\u001b[1;33m,\u001b[0m \u001b[0mlen\u001b[0m\u001b[1;33m(\u001b[0m\u001b[0mjpgLines\u001b[0m\u001b[1;33m)\u001b[0m\u001b[1;33m-\u001b[0m\u001b[1;36m1\u001b[0m\u001b[1;33m)\u001b[0m\u001b[1;33m]\u001b[0m\u001b[1;33m\u001b[0m\u001b[0m\n\u001b[1;32m---> 11\u001b[1;33m \u001b[0mlongitudes\u001b[0m \u001b[1;33m=\u001b[0m \u001b[1;33m[\u001b[0m\u001b[1;33m(\u001b[0m\u001b[0mmissionLines\u001b[0m\u001b[1;33m[\u001b[0m\u001b[0mx\u001b[0m\u001b[1;33m]\u001b[0m\u001b[1;33m)\u001b[0m\u001b[1;33m.\u001b[0m\u001b[0msplit\u001b[0m\u001b[1;33m(\u001b[0m\u001b[1;34m','\u001b[0m\u001b[1;33m)\u001b[0m\u001b[1;33m[\u001b[0m\u001b[1;36m1\u001b[0m\u001b[1;33m]\u001b[0m \u001b[1;32mfor\u001b[0m \u001b[0mx\u001b[0m \u001b[1;32min\u001b[0m \u001b[0mrange\u001b[0m\u001b[1;33m(\u001b[0m\u001b[1;36m1\u001b[0m\u001b[1;33m,\u001b[0m \u001b[0mlen\u001b[0m\u001b[1;33m(\u001b[0m\u001b[0mmissionLines\u001b[0m\u001b[1;33m)\u001b[0m\u001b[1;33m-\u001b[0m\u001b[1;36m1\u001b[0m\u001b[1;33m)\u001b[0m\u001b[1;33m]\u001b[0m\u001b[1;33m\u001b[0m\u001b[0m\n\u001b[0m\u001b[0;32m     12\u001b[0m \u001b[0mlatitudes\u001b[0m \u001b[1;33m=\u001b[0m \u001b[1;33m[\u001b[0m\u001b[1;33m(\u001b[0m\u001b[0mmissionLines\u001b[0m\u001b[1;33m[\u001b[0m\u001b[0mx\u001b[0m\u001b[1;33m]\u001b[0m\u001b[1;33m)\u001b[0m\u001b[1;33m.\u001b[0m\u001b[0msplit\u001b[0m\u001b[1;33m(\u001b[0m\u001b[1;34m','\u001b[0m\u001b[1;33m)\u001b[0m\u001b[1;33m[\u001b[0m\u001b[1;36m2\u001b[0m\u001b[1;33m]\u001b[0m \u001b[1;32mfor\u001b[0m \u001b[0mx\u001b[0m \u001b[1;32min\u001b[0m \u001b[0mrange\u001b[0m\u001b[1;33m(\u001b[0m\u001b[1;36m1\u001b[0m\u001b[1;33m,\u001b[0m \u001b[0mlen\u001b[0m\u001b[1;33m(\u001b[0m\u001b[0mmissionLines\u001b[0m\u001b[1;33m)\u001b[0m\u001b[1;33m-\u001b[0m\u001b[1;36m1\u001b[0m\u001b[1;33m)\u001b[0m\u001b[1;33m]\u001b[0m\u001b[1;33m\u001b[0m\u001b[0m\n\u001b[0;32m     13\u001b[0m \u001b[0maltitudes\u001b[0m \u001b[1;33m=\u001b[0m \u001b[1;33m[\u001b[0m\u001b[1;33m(\u001b[0m\u001b[0mmissionLines\u001b[0m\u001b[1;33m[\u001b[0m\u001b[0mx\u001b[0m\u001b[1;33m]\u001b[0m\u001b[1;33m)\u001b[0m\u001b[1;33m.\u001b[0m\u001b[0msplit\u001b[0m\u001b[1;33m(\u001b[0m\u001b[1;34m','\u001b[0m\u001b[1;33m)\u001b[0m\u001b[1;33m[\u001b[0m\u001b[1;36m3\u001b[0m\u001b[1;33m]\u001b[0m \u001b[1;32mfor\u001b[0m \u001b[0mx\u001b[0m \u001b[1;32min\u001b[0m \u001b[0mrange\u001b[0m\u001b[1;33m(\u001b[0m\u001b[1;36m1\u001b[0m\u001b[1;33m,\u001b[0m \u001b[0mlen\u001b[0m\u001b[1;33m(\u001b[0m\u001b[0mmissionLines\u001b[0m\u001b[1;33m)\u001b[0m\u001b[1;33m-\u001b[0m\u001b[1;36m1\u001b[0m\u001b[1;33m)\u001b[0m\u001b[1;33m]\u001b[0m\u001b[1;33m\u001b[0m\u001b[0m\n",
      "\u001b[1;31mIndexError\u001b[0m: list index out of range"
     ]
    }
   ],
   "source": [
    "with open('jpgFlightFile.csv', 'r') as inputFlightFile:\n",
    "        missionLines = inputFlightFile.read().split(\"\\n\")\n",
    "        \n",
    "with open('jpgImageTimes2.csv', 'r') as inputjpgFile:\n",
    "        jpgLines = inputjpgFile.read().split(\"\\n\")\n",
    "        \n",
    "missionSeconds = [(missionLines[x]).split(',')[0] for x in range(1, len(missionLines)-1)]\n",
    "jpgSeconds = [(jpgLines[x]).split(',')[3] for x in range(1, len(jpgLines)-1)]\n",
    "longitudes = [(missionLines[x]).split(',')[1] for x in range(1, len(missionLines)-1)]\n",
    "latitudes = [(missionLines[x]).split(',')[2] for x in range(1, len(missionLines)-1)]\n",
    "altitudes = [(missionLines[x]).split(',')[3] for x in range(1, len(missionLines)-1)]\n",
    "imageNames = [(jpgLines[x]).split(',')[0] for x in range(1, len(jpgLines)-1)]\n",
    "\n",
    "cnt = 0\n",
    "jpgSecondsLineNum = []\n",
    "for sec in jpgSeconds:\n",
    "    lengthSec = len(sec) \n",
    "    while sec != missionSeconds[cnt][:lengthSec]:\n",
    "        cnt = cnt + 1\n",
    "    jpgSecondsLineNum.append(cnt)\n",
    "    \n",
    "with open('jpgImageFinalData.csv', 'w') as jpgFinalDataFile:\n",
    "    firstRow = \"File Name\" + \",\" + \"Longitude\" + \",\" + \"Latitude\" + \",\" + \"Altitude\" + \"\\n\"\n",
    "    jpgFinalDataFile.write(firstRow)\n",
    "    for i in range(len(jpgSeconds)-1):\n",
    "        lineNum = jpgSecondsLineNum(i)\n",
    "        row = imageNames[i] + \",\" + longitudes[lineNum] + \",\" + latitudes[lineNum] + \",\" + altitudes[lineNum] + \"\\n\"\n",
    "        jpgFinalDataFile.write(row)"
   ]
  },
  {
   "cell_type": "code",
   "execution_count": null,
   "metadata": {
    "collapsed": true
   },
   "outputs": [],
   "source": []
  }
 ],
 "metadata": {
  "anaconda-cloud": {},
  "kernelspec": {
   "display_name": "Python [Root]",
   "language": "python",
   "name": "Python [Root]"
  },
  "language_info": {
   "codemirror_mode": {
    "name": "ipython",
    "version": 3
   },
   "file_extension": ".py",
   "mimetype": "text/x-python",
   "name": "python",
   "nbconvert_exporter": "python",
   "pygments_lexer": "ipython3",
   "version": "3.5.2"
  }
 },
 "nbformat": 4,
 "nbformat_minor": 2
}
