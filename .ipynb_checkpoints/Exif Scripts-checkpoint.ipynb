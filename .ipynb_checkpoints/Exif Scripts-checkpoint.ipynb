{
 "cells": [
  {
   "cell_type": "code",
   "execution_count": 1,
   "metadata": {
    "collapsed": false
   },
   "outputs": [
    {
     "name": "stdout",
     "output_type": "stream",
     "text": [
      "Found 145 images in directory C:/Users/Evan/Documents/PhD/DCIM/100MSDCF\n",
      "Output csv file for image times created at location: C:/Users/Evan/Documents/PhD/DCIM/100MSDCF/jpgExifTimes.csv\n",
      "All done :)\n"
     ]
    }
   ],
   "source": [
    "directoryInput = input('Enter the directory: ')\n",
    "directory = directoryInput.replace(\"\\\\\", \"/\")\n",
    "outputFilename = directory+'/jpgExifTimes.csv'\n",
    "\n",
    "import os\n",
    "from PIL import Image \n",
    "from PIL.ExifTags import TAGS \n",
    "\n",
    "fileHolder = []\n",
    "fileCounter = 0\n",
    "for file in os.listdir(directory):\n",
    "    if file.endswith(\".JPG\"):\n",
    "        fileHolder.append(os.path.join(directory, file))\n",
    "        fileCounter = fileCounter + 1\n",
    "print(\"Found %d images in directory %s\" % (fileCounter, directory))\n",
    "        \n",
    "with open(outputFilename, 'w') as outputFile:\n",
    "    firstRow = \"Image Name\" + \",\" + \"Time Taken\" + \",\" + \"Date Taken\" + \"\\n\"\n",
    "    outputFile.write(firstRow)\n",
    "    for i in range(fileCounter):\n",
    "        image = Image.open(fileHolder[i])\n",
    "        info = image._getexif() \n",
    "        string = \"DateTimeOriginal\"\n",
    "        for tag, value in info.items():\n",
    "            key = TAGS.get(tag, tag) \n",
    "            if key == string:\n",
    "                #print(key + \" \" + str(value))  #Would print out all exif data\n",
    "                row = fileHolder[i] + \",\" + str(value[-8:]) + \",\" + str(value[0:10]) + \"\\n\"\n",
    "                outputFile.write(row)\n",
    "\n",
    "image.close()\n",
    "print(\"Output csv file for image times created at location:\", outputFilename)\n",
    "print(\"All done :)\")"
   ]
  },
  {
   "cell_type": "code",
   "execution_count": null,
   "metadata": {
    "collapsed": false
   },
   "outputs": [],
   "source": []
  },
  {
   "cell_type": "code",
   "execution_count": 9,
   "metadata": {
    "collapsed": false
   },
   "outputs": [
    {
     "name": "stdout",
     "output_type": "stream",
     "text": [
      "DateTimeOriginal 2017:10:03 12:47:02\n",
      "4\n"
     ]
    }
   ],
   "source": [
    "from PIL import Image \n",
    "from PIL.ExifTags import TAGS, GPSTAGS \n",
    "\n",
    "image = Image.open(\"C:/Users/Evan/Documents/PhD/DCIM/100MSDCFMissionData10jpg/DSC06487.jpg\")  \n",
    "info = image._getexif() \n",
    "cnt = 0\n",
    "#print(info)\n",
    "for tag, value in info.items():\n",
    "    cnt = cnt + 1\n",
    "    #if cnt == 4:\n",
    "    key = TAGS.get(tag, tag)\n",
    "    if str(key) == 'DateTimeOriginal':\n",
    "        print(str(key) + \" \" + str(value))\n",
    "        print(cnt)\n",
    "    #print(str(value[-8:]))"
   ]
  },
  {
   "cell_type": "code",
   "execution_count": null,
   "metadata": {
    "collapsed": false
   },
   "outputs": [],
   "source": []
  },
  {
   "cell_type": "code",
   "execution_count": null,
   "metadata": {
    "collapsed": true
   },
   "outputs": [],
   "source": []
  }
 ],
 "metadata": {
  "anaconda-cloud": {},
  "kernelspec": {
   "display_name": "Python [Root]",
   "language": "python",
   "name": "Python [Root]"
  },
  "language_info": {
   "codemirror_mode": {
    "name": "ipython",
    "version": 3
   },
   "file_extension": ".py",
   "mimetype": "text/x-python",
   "name": "python",
   "nbconvert_exporter": "python",
   "pygments_lexer": "ipython3",
   "version": "3.5.2"
  }
 },
 "nbformat": 4,
 "nbformat_minor": 2
}
