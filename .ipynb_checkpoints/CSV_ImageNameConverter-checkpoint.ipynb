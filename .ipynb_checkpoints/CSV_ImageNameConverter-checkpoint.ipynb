{
 "cells": [
  {
   "cell_type": "code",
   "execution_count": null,
   "metadata": {
    "collapsed": false
   },
   "outputs": [],
   "source": [
    "from shutil import copy\n",
    "\n",
    "src = 'C:/Users/Evan/Documents/PhD/DCIM/100MSDCF0jpgImageFinalMisisonDataScript3.csv'\n",
    "dst = 'C:/Users/Evan/Documents/PhD/DCIM/CopyPaste/'\n",
    "\n",
    "copy(src, dst)"
   ]
  },
  {
   "cell_type": "code",
   "execution_count": null,
   "metadata": {
    "collapsed": false
   },
   "outputs": [],
   "source": [
    "directory = 'C:/Users/Evan/Documents/PhD/DCIM'\n",
    "\n",
    "import os\n",
    "\n",
    "jpgHolder = []\n",
    "jpgCounter = 0\n",
    "for file in os.listdir(directory):\n",
    "    if file.endswith(\".csv\"):\n",
    "        jpgHolder.append(os.path.join(directory, file))\n",
    "        jpgCounter = jpgCounter + 1\n",
    "            \n",
    "print(\"Found %d .csv files\" % jpgCounter)\n",
    "    \n",
    "for j in range(jpgCounter):\n",
    "    \n",
    "    newCSVFileName = jpgHolder[j][:-4] + 'New.csv'\n",
    "\n",
    "    with open(jpgHolder[j], 'r') as jpgFile:\n",
    "        jpgFileLines = jpgFile.read().split(\"\\n\")\n",
    "        jpgImageNames = [(jpgFileLines[x]).split(',')[0] for x in range(1, len(jpgFileLines)-1)]\n",
    "        jpgImageLongs = [(jpgFileLines[x]).split(',')[1] for x in range(1, len(jpgFileLines)-1)]\n",
    "        jpgImageLats = [(jpgFileLines[x]).split(',')[2] for x in range(1, len(jpgFileLines)-1)]\n",
    "        jpgImageAlts = [(jpgFileLines[x]).split(',')[3] for x in range(1, len(jpgFileLines)-1)]\n",
    "\n",
    "    with open(newCSVFileName, 'w') as newFile:\n",
    "        firstRow = \"File Name\" + \",\" + \"Longitude\" + \",\" + \"Latitude\" + \",\" + \"Altitude\" + \"\\n\"\n",
    "        newFile.write(firstRow)\n",
    "        for i in range(len(jpgImageLongs)):\n",
    "            justImName = (jpgImageNames[i]).split('\\\\')\n",
    "            row = justImName[1] + \",\" + jpgImageLongs[i] + \",\" + jpgImageLats[i] + \",\" + jpgImageAlts[i] + \"\\n\"\n",
    "            newFile.write(row)\n",
    "        \n",
    "print(\"All done :)\")"
   ]
  },
  {
   "cell_type": "code",
   "execution_count": 22,
   "metadata": {
    "collapsed": false
   },
   "outputs": [
    {
     "name": "stdout",
     "output_type": "stream",
     "text": [
      "-20\n",
      "-19\n",
      "-18\n",
      "-17\n",
      "-16\n",
      "-15\n",
      "-14\n",
      "-13\n",
      "-12\n",
      "-11\n",
      "-10\n",
      "-9\n",
      "-8\n",
      "-7\n",
      "-6\n",
      "-5\n",
      "-4\n",
      "-3\n",
      "-2\n",
      "-1\n",
      "0\n",
      "1\n",
      "2\n",
      "3\n",
      "4\n",
      "5\n",
      "6\n",
      "7\n",
      "8\n",
      "9\n",
      "10\n",
      "11\n",
      "12\n",
      "13\n",
      "14\n",
      "15\n",
      "16\n",
      "17\n",
      "18\n",
      "19\n"
     ]
    }
   ],
   "source": [
    "for i in range(-20, 20):\n",
    "    print(i)"
   ]
  },
  {
   "cell_type": "code",
   "execution_count": null,
   "metadata": {
    "collapsed": true
   },
   "outputs": [],
   "source": []
  }
 ],
 "metadata": {
  "kernelspec": {
   "display_name": "Python [Root]",
   "language": "python",
   "name": "Python [Root]"
  },
  "language_info": {
   "codemirror_mode": {
    "name": "ipython",
    "version": 3
   },
   "file_extension": ".py",
   "mimetype": "text/x-python",
   "name": "python",
   "nbconvert_exporter": "python",
   "pygments_lexer": "ipython3",
   "version": "3.5.2"
  }
 },
 "nbformat": 4,
 "nbformat_minor": 2
}
