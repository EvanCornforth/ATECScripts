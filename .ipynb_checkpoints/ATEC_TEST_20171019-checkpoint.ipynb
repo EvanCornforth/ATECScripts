{
 "cells": [
  {
   "cell_type": "code",
   "execution_count": 48,
   "metadata": {
    "collapsed": false
   },
   "outputs": [
    {
     "name": "stdout",
     "output_type": "stream",
     "text": [
      "All done :)\n"
     ]
    }
   ],
   "source": [
    "flightFileName = 'C:/Users/Evan/Documents/PhD/19102017/110RTK1.csv'\n",
    "fileNewName = flightFileName[:-4] + 'FullFlight.csv'\n",
    "flightAlt = 108\n",
    "#flightBumpiness = 2\n",
    "flightSpeed = 0.5\n",
    "#flightBumpiness = 1\n",
    "\n",
    "with open(flightFileName) as flightFile:      \n",
    "    flightFileLines = flightFile.read().split(\"\\n\")\n",
    "    \n",
    "    flightSpeeds = [float((flightFileLines[x]).split(',')[27]) for x in range(6250, len(flightFileLines)-1)]\n",
    "    flightRelHeight = [float((flightFileLines[x]).split(',')[10]) for x in range(6250, len(flightFileLines)-1)]\n",
    "    flightLongs = [(flightFileLines[x]).split(',')[3] for x in range(6250, len(flightFileLines)-1)]\n",
    "    flightLats = [(flightFileLines[x]).split(',')[4] for x in range(6250, len(flightFileLines)-1)]\n",
    "    \n",
    "with open(fileNewName, 'w') as outputFile:\n",
    "    firstRow = 'Longitude' + ',' + 'Latitude' + ',' + 'Altitude' + '\\n'\n",
    "    outputFile.write(firstRow)\n",
    "    for i in range(len(flightSpeeds)):\n",
    "        #if flightRelHeight[i] >= flightAlt:\n",
    "            #if flightSpeeds[i] <= flightSpeed:\n",
    "        row = flightLongs[i] + ',' + flightLats[i] + ',' + str(flightRelHeight[i]) + '\\n'\n",
    "        outputFile.write(row)\n",
    "\n",
    "print(\"All done :)\")"
   ]
  },
  {
   "cell_type": "code",
   "execution_count": 66,
   "metadata": {
    "collapsed": false
   },
   "outputs": [
    {
     "data": {
      "text/plain": [
       "(510331.79904118506, 6193917.882160555, 30, 'U')"
      ]
     },
     "execution_count": 66,
     "metadata": {},
     "output_type": "execute_result"
    }
   ],
   "source": [
    "import utm\n",
    "\n",
    "utm.from_latlon(55.89061597, -2.834807036)"
   ]
  },
  {
   "cell_type": "code",
   "execution_count": 76,
   "metadata": {
    "collapsed": false
   },
   "outputs": [
    {
     "name": "stdout",
     "output_type": "stream",
     "text": [
      "6214906.054711133\n",
      "(510331.79904114944, 6193917.881581295)\n"
     ]
    }
   ],
   "source": [
    "from pyproj import Proj\n",
    "import math\n",
    "\n",
    "myProj = Proj(\"+proj=utm +zone=30U +north +ellps=WGS84 +datum=WGS84 +units=m +no_defs\")\n",
    "x = myProj(-2.834807036, 55.89061597)\n",
    "\n",
    "print(math.sqrt(x[0]*x[0] + x[1]*x[1]))\n",
    "print(x)"
   ]
  },
  {
   "cell_type": "code",
   "execution_count": 12,
   "metadata": {
    "collapsed": false
   },
   "outputs": [
    {
     "name": "stdout",
     "output_type": "stream",
     "text": [
      "5811 5811\n",
      "Check two\n",
      "6214907.255861571 6214953.386311551\n",
      "Check three\n",
      "Check two\n",
      "6214907.247572835 6214894.265654869\n",
      "Check three\n",
      "Check three\n",
      "Check three\n",
      "Check two\n",
      "6214953.712678561 6214891.788414761\n",
      "Check three\n",
      "Check three\n",
      "Check three\n",
      "Check three\n",
      "Check three\n",
      "Check three\n",
      "Check two\n",
      "0 0\n",
      "Check two\n",
      "6214953.586376254 6214796.710730955\n",
      "Check three\n",
      "Check two\n",
      "6214894.266624801 6214796.965044034\n",
      "Check three\n",
      "Check three\n",
      "Check three\n",
      "Check two\n",
      "6214892.34424219 6214753.502282618\n",
      "Check two\n",
      "0.0 6214753.657639262\n",
      "For the xyz space, St Dev and Median and Average are: 0.0 0.0 0.0\n",
      "For the xy plane, St Dev and Median and Average are: 2958720.93457 0.0 2157541.73525\n",
      "For altitudes, St Dev and Median and Average are: 52.2986228703 0.0 38.1368811881\n",
      "For the xyz space, St Dev and Median and Average are: 0.0 0.0 0.0\n",
      "For the xy plane, St Dev and Median and Average are: 0.0 0.0 0.0\n",
      "For altitudes, St Dev and Median and Average are: 0.0 0.0 0.0\n",
      "For the xyz space, St Dev and Median and Average are: 0.0 0.0 0.0\n",
      "For the xy plane, St Dev and Median and Average are: 0.158458436759 6214892.13487 6214892.09644\n",
      "For altitudes, St Dev and Median and Average are: 0.0 110.0 110.0\n",
      "For the xyz space, St Dev and Median and Average are: 0.143735258894 6214953.61489 6214953.63297\n",
      "For the xy plane, St Dev and Median and Average are: 0.0488873872464 6214844.33462 6214844.34397\n",
      "For altitudes, St Dev and Median and Average are: 0.031842219259 109.9 109.888549618\n",
      "For the xyz space, St Dev and Median and Average are: 0.0 0.0 0.0\n",
      "For the xy plane, St Dev and Median and Average are: 0.0 0.0 0.0\n",
      "For altitudes, St Dev and Median and Average are: 0.0 0.0 0.0\n",
      "For the xyz space, St Dev and Median and Average are: 0.0 0.0 0.0\n",
      "For the xy plane, St Dev and Median and Average are: 0.0780701191317 6214797.15547 6214797.15986\n",
      "For altitudes, St Dev and Median and Average are: 0.0484647393413 110.0 110.037704918\n",
      "For the xyz space, St Dev and Median and Average are: 0.0 0.0 0.0\n",
      "For the xy plane, St Dev and Median and Average are: 0.0 0.0 0.0\n",
      "For altitudes, St Dev and Median and Average are: 0.0 0.0 0.0\n",
      "For the xyz space, St Dev and Median and Average are: 0.160577218873 6214892.12025 6214892.06105\n",
      "For the xy plane, St Dev and Median and Average are: 0.107538855214 6214753.64806 6214753.63513\n",
      "For altitudes, St Dev and Median and Average are: 0.0420043130827 110.0 109.977122642\n",
      "All done :)\n"
     ]
    }
   ],
   "source": [
    "from pyproj import Proj\n",
    "import math\n",
    "import numpy as np\n",
    "\n",
    "myProj = Proj(\"+proj=utm +zone=30U +north +ellps=WGS84 +datum=WGS84 +units=m +no_defs\")\n",
    "\n",
    "flightFileName = 'C:/Users/Evan/Documents/PhD/19102017/110RTK2.csv'\n",
    "latlongaltLineOffset = 50\n",
    "fileNewName = flightFileName[:-4] + 'TestAnalysis6.csv'\n",
    "flightAlt = 100\n",
    "flightSpeed = 0.5\n",
    "\n",
    "with open(flightFileName) as flightFile:      \n",
    "    flightFileLines = flightFile.read().split(\"\\n\")\n",
    "    \n",
    "    flightSpeeds = [float((flightFileLines[x]).split(',')[27]) for x in range(latlongaltLineOffset, len(flightFileLines)-1)]\n",
    "    flightRelHeight = [float((flightFileLines[x]).split(',')[10]) for x in range(latlongaltLineOffset, len(flightFileLines)-1)]\n",
    "    flightLongs = [float((flightFileLines[x]).split(',')[3]) for x in range(latlongaltLineOffset, len(flightFileLines)-1)]\n",
    "    flightLats = [float((flightFileLines[x]).split(',')[4]) for x in range(latlongaltLineOffset, len(flightFileLines)-1)]\n",
    "    \n",
    "    flightLine = []\n",
    "    for i in range(len(flightSpeeds)):\n",
    "        if flightRelHeight[i] >= flightAlt:\n",
    "            if flightSpeeds[i] <= flightSpeed:\n",
    "                flightLine.append(i)\n",
    "            else:\n",
    "                flightLine.append(0)\n",
    "        else:\n",
    "            flightLine.append(0)               \n",
    "    \n",
    "    absDistENA = []\n",
    "    absDistEN = []\n",
    "    relHeights = []\n",
    "    cnt = 0\n",
    "    for a in range(len(flightLongs)):\n",
    "        if flightLine[a] != 0:\n",
    "            relHeights.append(flightRelHeight[a])\n",
    "            eastingNorthing = myProj(flightLongs[a], flightLats[a])\n",
    "            absDistEN.append(math.sqrt(eastingNorthing[0]*eastingNorthing[0] + eastingNorthing[1]*eastingNorthing[1]))\n",
    "            absDistENA.append(math.sqrt(absDistEN[cnt]*absDistEN[cnt] + relHeights[cnt]*relHeights[cnt])) \n",
    "            cnt = cnt + 1\n",
    "        else: \n",
    "            absDistEN.append(0)\n",
    "            absDistENA.append(0)\n",
    "            relHeights.append(0)\n",
    "            \n",
    "    waypointHolderENA = []\n",
    "    waypointsENA = []\n",
    "    waypointHolderEN = []\n",
    "    waypointsEN = []\n",
    "    waypointHolderA = []\n",
    "    waypointsA = []\n",
    "    nPointsHolder = []\n",
    "    counter = 0\n",
    "    print(len(absDistEN), len(absDistENA))\n",
    "    for b in range(1, len(absDistENA)):\n",
    "        if abs(absDistENA[b] - absDistENA[b-1]) < 20:\n",
    "            waypointHolderENA.append(absDistENA[b])\n",
    "            waypointHolderEN.append(absDistEN[b])\n",
    "            waypointHolderA.append(relHeights[b])\n",
    "        elif len(waypointHolderENA) > 300:\n",
    "            waypointsENA.append(waypointHolderENA)\n",
    "            waypointsEN.append(waypointHolderEN)\n",
    "            waypointsA.append(waypointHolderA)\n",
    "            nPointsHolder.append(len(waypointHolderENA))\n",
    "            waypointHolderENA = []\n",
    "            waypointHolderEN = []\n",
    "            waypointHolderA = []\n",
    "            counter  = counter + 1\n",
    "            print(\"Check two\")\n",
    "            print(absDistENA[b], absDistEN[b])\n",
    "        else:\n",
    "            waypointHolderENA = []\n",
    "            waypointHolderEN = []\n",
    "            waypointHolderA = []\n",
    "            print(\"Check three\")\n",
    "\n",
    "    for lis in range(counter):\n",
    "        print(\"For the xyz space, St Dev and Median and Average are:\", np.std(waypointsENA[lis]), np.median(waypointsENA[lis]), np.average(waypointsENA[lis]))\n",
    "        print(\"For the xy plane, St Dev and Median and Average are:\", np.std(waypointsEN[lis]), np.median(waypointsEN[lis]), np.average(waypointsEN[lis]))\n",
    "        print(\"For altitudes, St Dev and Median and Average are:\", np.std(waypointsA[lis]), np.median(waypointsA[lis]), np.average(waypointsA[lis]))\n",
    "    \n",
    "with open(fileNewName, 'w') as outputFile:\n",
    "    firstRow = 'Longitude' + ',' + 'Latitude' + ',' + 'Altitude' + ',' + 'absDistENA' + '\\n'\n",
    "    outputFile.write(firstRow)\n",
    "    for i in range(len(flightSpeeds)):\n",
    "        if flightRelHeight[i] >= flightAlt:\n",
    "            if flightSpeeds[i] <= flightSpeed:\n",
    "                row = str(flightLongs[i]) + ',' + str(flightLats[i]) + ',' + str(flightRelHeight[i]) + ',' + str(absDistENA[i]) + '\\n'\n",
    "                outputFile.write(row)\n",
    "\n",
    "print(\"All done :)\")"
   ]
  },
  {
   "cell_type": "markdown",
   "metadata": {},
   "source": [
    "110GPS1:\n",
    "St Dev and Median and Average are: 0.174027790514 6214951.48408 6214951.44273\n",
    "St Dev and Median and Average are: 0.301609489405 6214892.845 6214892.71985\n",
    "St Dev and Median and Average are: 0.0996659044845 6214844.83341 6214844.81794\n",
    "St Dev and Median and Average are: 0.213596891356 6214797.14362 6214797.20421\n",
    "\n",
    "110GPS2:\n",
    "St Dev and Median and Average are: 0.127124472102 6214952.52858 6214952.50646\n",
    "St Dev and Median and Average are: 0.135861896357 6214892.16195 6214892.17755\n",
    "St Dev and Median and Average are: 0.0870316450351 6214844.57275 6214844.579\n",
    "St Dev and Median and Average are: 0.167229193145 6214797.81619 6214797.76516\n",
    "\n",
    "110RTK1:\n",
    "St Dev and Median and Average are: 0.0817456746132 6214954.40042 6214954.43011\n",
    "St Dev and Median and Average are: 0.158255512946 6214892.83889 6214892.85297\n",
    "St Dev and Median and Average are: 0.130983058117 6214845.80832 6214845.80119\n",
    "St Dev and Median and Average are: 0.0783705842512 6214798.50018 6214798.50313\n",
    "\n",
    "110RTK2:\n",
    "St Dev and Median and Average are: 0.147730462557 6214953.6105 6214953.61258\n",
    "St Dev and Median and Average are: 0.167206398613 6214892.12777 6214892.08295\n",
    "St Dev and Median and Average are: 0.0707434678223 6214844.33694 6214844.33533\n",
    "St Dev and Median and Average are: 0.12806771921 6214797.1255 6214797.08544\n",
    "\n",
    "25RTK:\n",
    "St Dev and Median and Average are: 0.169753686376 6214953.8935 6214953.90629\n",
    "St Dev and Median and Average are: 0.0911386034683 6214892.87404 6214892.88283\n",
    "St Dev and Median and Average are: 0.119008820874 6214845.48422 6214845.50173\n",
    "St Dev and Median and Average are: 0.0955032800482 6214797.79189 6214797.83805\n",
    "St Dev and Median and Average are: 0.110874139466 6214754.16529 6214754.15151\n",
    "\n",
    "25GPS:\n",
    "St Dev and Median and Average are: 0.258394376555 6214952.40705 6214952.44438\n",
    "St Dev and Median and Average are: 0.141896514928 6214892.504 6214892.50112\n",
    "St Dev and Median and Average are: 0.0863218317381 6214844.76227 6214844.77195\n",
    "St Dev and Median and Average are: 0.105491500016 6214797.36888 6214797.38081"
   ]
  },
  {
   "cell_type": "markdown",
   "metadata": {},
   "source": [
    "Median is: 607.5\n",
    "Average is: 607.5\n",
    "St dev is: 139.141115419\n",
    "Median is: 1417.5\n",
    "Average is: 1417.5\n",
    "St dev is: 138.563763902\n",
    "Median is: 2221.0\n",
    "Average is: 2221.0\n",
    "St dev is: 140.007142675"
   ]
  },
  {
   "cell_type": "markdown",
   "metadata": {},
   "source": [
    "Median is: 1402.0\n",
    "Average is: 1402.0\n",
    "St dev is: 129.037462261\n",
    "Median is: 2242.5\n",
    "Average is: 2242.5\n",
    "St dev is: 140.295818422\n",
    "Median is: 3055.0\n",
    "Average is: 3055.0\n",
    "St dev is: 140.584494166\n",
    "Median is: 3865.5\n",
    "Average is: 3865.5\n",
    "St dev is: 140.873169908"
   ]
  },
  {
   "cell_type": "markdown",
   "metadata": {},
   "source": []
  }
 ],
 "metadata": {
  "anaconda-cloud": {},
  "kernelspec": {
   "display_name": "Python [Root]",
   "language": "python",
   "name": "Python [Root]"
  },
  "language_info": {
   "codemirror_mode": {
    "name": "ipython",
    "version": 3
   },
   "file_extension": ".py",
   "mimetype": "text/x-python",
   "name": "python",
   "nbconvert_exporter": "python",
   "pygments_lexer": "ipython3",
   "version": "3.5.2"
  }
 },
 "nbformat": 4,
 "nbformat_minor": 2
}
