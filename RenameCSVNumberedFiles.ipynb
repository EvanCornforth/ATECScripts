{
 "cells": [
  {
   "cell_type": "code",
   "execution_count": 3,
   "metadata": {
    "collapsed": false
   },
   "outputs": [
    {
     "name": "stdout",
     "output_type": "stream",
     "text": [
      "Enter the directory: C:\\Users\\Evan\\Documents\\PhD\\DCIM\\testrename\\\n",
      "All done\n"
     ]
    }
   ],
   "source": [
    "directoryInput = input('Enter the directory: ')\n",
    "directory = directoryInput.replace(\"\\\\\", \"/\")\n",
    "\n",
    "offset = 155\n",
    "\n",
    "import os\n",
    "\n",
    "files = os.listdir(directory)\n",
    "\n",
    "for file in files:\n",
    "    if file[-3:].lower() == \"csv\":\n",
    "        newFileNum = int(file[:-4]) + offset\n",
    "        os.rename(directory + file,  directory + 'Flight2_' + str(newFileNum) + '.csv')\n",
    "        \n",
    "print(\"All done\")"
   ]
  },
  {
   "cell_type": "code",
   "execution_count": null,
   "metadata": {
    "collapsed": true
   },
   "outputs": [],
   "source": []
  }
 ],
 "metadata": {
  "kernelspec": {
   "display_name": "Python [Root]",
   "language": "python",
   "name": "Python [Root]"
  },
  "language_info": {
   "codemirror_mode": {
    "name": "ipython",
    "version": 3
   },
   "file_extension": ".py",
   "mimetype": "text/x-python",
   "name": "python",
   "nbconvert_exporter": "python",
   "pygments_lexer": "ipython3",
   "version": "3.5.2"
  }
 },
 "nbformat": 4,
 "nbformat_minor": 2
}
