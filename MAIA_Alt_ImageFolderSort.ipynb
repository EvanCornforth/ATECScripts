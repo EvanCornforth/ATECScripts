{
 "cells": [
  {
   "cell_type": "markdown",
   "metadata": {},
   "source": [
    "Takes in a MAIA file, then by filtering only lines which are within a certain range of altitude and sorts the MAIA images into two folders, those in the definition of mission and those without"
   ]
  },
  {
   "cell_type": "code",
   "execution_count": null,
   "metadata": {
    "collapsed": true
   },
   "outputs": [],
   "source": [
    "directory = 'D:/ATEC/180717_sample/maia/20170718'\n",
    "\n",
    "import os\n",
    "\n",
    "fileHolder = []\n",
    "fileCounter = 0\n",
    "for file in os.listdir(directory):\n",
    "    if file.endswith(\".log\"):\n",
    "        fileHolder.append(os.path.join(directory, file))\n",
    "        fileCounter = fileCounter + 1\n",
    "\n",
    "#print(\"Files are:\", fileHolder)\n",
    "#print(\"Number of files are:\", fileCounter)\n",
    "\n",
    "fileData = []\n",
    "\n",
    "for i in range(fileCounter):\n",
    "    newpath1 = directory + '/Flight' + str(i+1) + 'MissionData'  \n",
    "    newpath2 = directory + '/Flight' + str(i+1) + 'NotMissionData'  \n",
    "    if not os.path.exists(newpath1):\n",
    "        os.makedirs(newpath1)\n",
    "   #     print(\"Made the folder:\", newpath1)\n",
    "    if not os.path.exists(newpath2):\n",
    "        os.makedirs(newpath2)\n",
    "   #     print(\"Made the folder:\", newpath2)\n",
    "    with open(fileHolder[i]) as file:\n",
    "        fileLines = file.read().split(\"\\n\")\n",
    "    #    print(\"First line is:\", fileLines[0])\n",
    "        fileImageNames = [(fileLines[x]).split('\\t')[3] for x in range(len(fileLines)-1)]\n",
    "        fileAltitudes = [(fileLines[x]).split('\\t')[11] for x in range(len(fileLines)-1)]\n",
    "        missionAlts = []\n",
    "        for k in range(1, len(fileAltitudes)):\n",
    "            if float(fileAltitudes[k]) > 167 + 50:\n",
    "                missionAlts.append(k)\n",
    "        if len(missionAlts) == 0:\n",
    "            missionStartLine = 0\n",
    "            missionEndLine = 0\n",
    "        else:\n",
    "            missionStartLine = min(missionAlts)\n",
    "            missionEndLine = max(missionAlts)\n",
    " #       print(\"Sorted appropriate altitudes\")\n",
    "  #      print(fileAltitudes)\n",
    "  #      print(fileImageNames) \n",
    "  #      print(missionAlts)\n",
    "        fileData.append((fileHolder[i], missionStartLine, missionEndLine))\n",
    "        if len(missionAlts) != 0:\n",
    "            for j in range(fileData[i][1], fileData[i][2]+1):\n",
    "                os.rename(directory + '/' + fileImageNames[j],  newpath1 + '/' + fileImageNames[j])\n",
    "        for a in range(1, fileData[i][1]):\n",
    "            os.rename(directory + '/' + fileImageNames[a],  newpath2 + '/' + fileImageNames[a])\n",
    "        for b in range(fileData[i][2]+1, len(fileImageNames)):\n",
    "            os.rename(directory + '/' + fileImageNames[b],  newpath2 + '/' + fileImageNames[b])    "
   ]
  }
 ],
 "metadata": {
  "kernelspec": {
   "display_name": "Python [Root]",
   "language": "python",
   "name": "Python [Root]"
  },
  "language_info": {
   "codemirror_mode": {
    "name": "ipython",
    "version": 3
   },
   "file_extension": ".py",
   "mimetype": "text/x-python",
   "name": "python",
   "nbconvert_exporter": "python",
   "pygments_lexer": "ipython3",
   "version": "3.5.2"
  }
 },
 "nbformat": 4,
 "nbformat_minor": 2
}
