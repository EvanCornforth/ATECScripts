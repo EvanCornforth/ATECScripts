{
 "cells": [
  {
   "cell_type": "markdown",
   "metadata": {},
   "source": [
    "# This is the working script - no edits please\n",
    "\n",
    "## Set Up\n",
    "\n",
    "1. In the directory there are seperate folders for each flight containing all the jpegs, and the arw images too\n",
    "2. Identifiable csv file of the Flight log\n",
    "\n",
    "## Scripts Contained\n",
    "\n",
    "1. Takes in all jpgs in a directory, reads their exif data and then creates a new csv file with columns of Image Name / Time Taken / Date Taken\n",
    "2. Takes in the above csv file, calculates the total seconds elapsed from midnight for each image based off of the time value, then creates a new csv file with the columns Image Name / Time / Seconds Elapsed\n",
    "3. Takes in the corresponding flight file, and using the startWord = '[L-MIS]WP Mission: received idle vel cmd 2' or endWord = 'turn mode. end of trace. quit' to associate the flight file lines with real times. Using this real time, the total secodns past midnight is calculated. A new csv file is created, with first line having the start and end line outputted, and then the next line having column headers Seconds / Long / Lat / Altitude for every single line in the flight file. This allows for later matching with image capture times that were on misson and not on mission\n",
    "4. Creates two new csv files, InMissionData and NotInMissionData. Next it reads in both the stripped down flight file from script 3, and the csv file from script 2 and matches each jpg-elapsed second to a corresponding line in the stripped down flight file. Then images which have been identified as being on mission, from using row 1 of the stripped down flight file, have a row written to the InMissionData file which has columns Image Name/Long/Lat/Altitude, and images outwith the mission have a row written to the NotInMissionData file which has one column of Image Name\n",
    "5. Creates 2 new folders, InMissionData and OutMissionData, and within each folder creates a new folder names jpg and arw. Then by reading in the two csv files from Script 4, sorts the arw and jpg images accordingly to the new folders. Here it is assumed that each arw is directly associated with the same named jpg image\n"
   ]
  },
  {
   "cell_type": "code",
   "execution_count": 34,
   "metadata": {
    "collapsed": false
   },
   "outputs": [
    {
     "name": "stdout",
     "output_type": "stream",
     "text": [
      "All done :)\n"
     ]
    }
   ],
   "source": [
    "directory = 'D:/ATEC/180717_sample/sony/flight2/'\n",
    "outputFilename = directory+'jpgImageTimes.csv'\n",
    "\n",
    "import os\n",
    "from PIL import Image \n",
    "from PIL.ExifTags import TAGS\n",
    "\n",
    "fileHolder = []\n",
    "fileCounter = 0\n",
    "for file in os.listdir(directory):\n",
    "    if file.endswith(\".JPG\"):\n",
    "        fileHolder.append(os.path.join(directory, file))\n",
    "        fileCounter = fileCounter + 1\n",
    "        \n",
    "with open(outputFilename, 'w') as outputFile:\n",
    "    firstRow = \"Image Name\" + \",\" + \"Time Taken\" + \",\" + \"Date Taken\" + \"\\n\"\n",
    "    outputFile.write(firstRow)\n",
    "    for i in range(fileCounter):\n",
    "        image = Image.open(fileHolder[i])\n",
    "        info = image._getexif() \n",
    "        cnt = 0\n",
    "        for tag, value in info.items():\n",
    "            cnt = cnt + 1\n",
    "            if cnt == 4:\n",
    "                key = TAGS.get(tag, tag) \n",
    "                #print(key + \" \" + str(value))\n",
    "                row = fileHolder[i] + \",\" + str(value[-8:]) + \",\" + str(value[0:10]) + \"\\n\"\n",
    "                #date = str(value[8:10]) + str(value[4:8]) + str(value[0:4])\n",
    "                #row = fileHolder[i] + \",\" + str(value[-8:]) + \",\" + date + \"\\n\"\n",
    "                outputFile.write(row)\n",
    "                \n",
    "image.close()\n",
    "print(\"All done :)\")"
   ]
  },
  {
   "cell_type": "code",
   "execution_count": 35,
   "metadata": {
    "collapsed": false
   },
   "outputs": [
    {
     "name": "stdout",
     "output_type": "stream",
     "text": [
      "All done :)\n"
     ]
    }
   ],
   "source": [
    "#flightTriggerTime = 120\n",
    "\n",
    "with open(directory+'jpgImageTimes.csv') as jpgFile:\n",
    "    jpgFileLines = jpgFile.read().split(\"\\n\")\n",
    "    jpgjpgImageNames = [(jpgFileLines[x]).split(',')[0] for x in range(0, len(jpgFileLines)-1)]\n",
    "    jpgImageTimes = [(jpgFileLines[x]).split(',')[1] for x in range(0, len(jpgFileLines)-1)]\n",
    "       \n",
    "def howManySecs(clockFace):\n",
    "    secs = int(clockFace[-2:]) + 60*int(clockFace[3:5]) + 60*60*int(clockFace[:2])\n",
    "    return secs\n",
    "\n",
    "jpgImageSeconds = []\n",
    "for j in range(1, len(jpgFileLines)-1):\n",
    "    jpgImageSeconds.append(howManySecs(jpgImageTimes[j])-3600)\n",
    "\n",
    "with open(directory+'jpgImageTimesFirstScript.csv', 'w') as jpgFile:\n",
    "    firstRow = jpgjpgImageNames[0] + \",\" + jpgImageTimes[0] + \",\" + \"Seconds\" + \"\\n\"\n",
    "    jpgFile.write(firstRow)\n",
    "    secondRow = jpgjpgImageNames[1] + \",\" + jpgImageTimes[1] + \",\" + str(jpgImageSeconds[0]) + \"\\n\"\n",
    "    jpgFile.write(secondRow)\n",
    "    for i in range(1, len(jpgFileLines)-2):\n",
    "        if jpgImageSeconds[i] - jpgImageSeconds[i-1] < flightTriggerTime:\n",
    "            row = jpgjpgImageNames[i+1] + \",\" + jpgImageTimes[i+1] +  \",\" + str(jpgImageSeconds[i]) + \"\\n\"\n",
    "            jpgFile.write(row)\n",
    "        else:\n",
    "            row = jpgjpgImageNames[i+1] + \",\" + jpgImageTimes[i+1] +  \",\" + str(jpgImageSeconds[i]) + \"\\n\"\n",
    "            jpgFile.write(row)\n",
    "        \n",
    "print(\"All done :)\")        "
   ]
  },
  {
   "cell_type": "markdown",
   "metadata": {},
   "source": [
    "Expect to be given the directory to the 1 flight file we need. Then this will "
   ]
  },
  {
   "cell_type": "code",
   "execution_count": 36,
   "metadata": {
    "collapsed": false
   },
   "outputs": [
    {
     "name": "stdout",
     "output_type": "stream",
     "text": [
      "Word \"[L-MIS]WP Mission: received idle vel cmd 2\" found in line 3941\n",
      "Word \"turn mode. end of trace. quit\" found in line 26735\n",
      "All done :)\n"
     ]
    }
   ],
   "source": [
    "flightLogDirectory = 'D:/ATEC/180717_sample/sony/FLY217_20170718_ES_P2.csv'\n",
    "\n",
    "import os\n",
    "\n",
    "with open(flightLogDirectory) as flightFile:      \n",
    "    flightFileLines = flightFile.read().split(\"\\n\")\n",
    "\n",
    "camShotLine = []\n",
    "word = 'SUCCESSED SIMPLE_SHOT'\n",
    "\n",
    "for i,line in enumerate(flightFileLines):\n",
    "    if word in line: # or word in line.split() to search for full words\n",
    "        camShotLine.append(i)\n",
    "\n",
    "missionRangeLine = []\n",
    "startWord = '[L-MIS]WP Mission: received idle vel cmd 2'\n",
    "endWord = 'turn mode. end of trace. quit'\n",
    "\n",
    "for i,line in enumerate(flightFileLines):\n",
    "    if startWord in line: # or word in line.split() to search for full words\n",
    "        missionRangeLine.append(i)\n",
    "        missStartLine = i\n",
    "        print(\"Word \\\"{}\\\" found in line {}\".format(startWord, i))\n",
    "\n",
    "for j,line in enumerate(flightFileLines):\n",
    "    if endWord in line: # or word in line.split() to search for full words\n",
    "        missionRangeLine.append(j)\n",
    "        missEndLine = j\n",
    "        print(\"Word \\\"{}\\\" found in line {}\".format(endWord, j))\n",
    "\n",
    "potMatch = len(camShotLine)\n",
    "potMatchLines = [flightFileLines[x] for x in camShotLine]\n",
    "\n",
    "dateWord = '|#SiF%|2'\n",
    "\n",
    "times = []\n",
    "\n",
    "for y in range(potMatch):\n",
    "    charDateWord = potMatchLines[y][(potMatchLines[y].find(dateWord)+7):((potMatchLines[y].find(dateWord)+15))]\n",
    "    if potMatchLines[y].find(charDateWord+\".0\")>1:\n",
    "        times.append(potMatchLines[y][(potMatchLines[y].find(charDateWord+\".0\")+9):((potMatchLines[y].find(charDateWord+\".0\")+17))])\n",
    "    elif potMatchLines[y].find(charDateWord+\".1\")>1:  \n",
    "        times.append(potMatchLines[y][(potMatchLines[y].find(charDateWord+\".1\")+9):((potMatchLines[y].find(charDateWord+\".1\")+17))])\n",
    "    elif potMatchLines[y].find(charDateWord+\".2\")>1:\n",
    "        times.append(potMatchLines[y][(potMatchLines[y].find(charDateWord+\".2\")+9):((potMatchLines[y].find(charDateWord+\".2\")+17))])\n",
    "\n",
    "flightTimes = [(flightFileLines[x]).split(',')[1] for x in camShotLine]\n",
    "\n",
    "missStartFlightTime = (flightFileLines[missStartLine]).split(',')[1]\n",
    "missFinishFlightTime = (flightFileLines[missEndLine]).split(',')[1]\n",
    "flightTimeDiffs = [float(missStartFlightTime)-float(flightTimes[0]), float(missFinishFlightTime)-float(flightTimes[0])]\n",
    "realFlightTimes = [0,0]\n",
    "for j in range(2):\n",
    "    timeHolder = (times[0]).split(':')\n",
    "    for i in range(3):\n",
    "        timeHolder[i] = float(timeHolder[i])\n",
    "    timeHolder[2] = timeHolder[2] + flightTimeDiffs[j]\n",
    "    while timeHolder[2] >= 60:\n",
    "        timeHolder[2] = timeHolder[2] - 60\n",
    "        timeHolder[1] = timeHolder[1] + 1\n",
    "        while timeHolder[1] >= 60:\n",
    "            timeHolder[1] = timeHolder[1] - 60\n",
    "            timeHolder[0] = timeHolder[0] + 1\n",
    "    while timeHolder[2] <= 0:\n",
    "        timeHolder[2] = timeHolder[2] + 60\n",
    "        timeHolder[1] = timeHolder[1] - 1\n",
    "        while timeHolder[1] <= 0:\n",
    "            timeHolder[1] = timeHolder[1] + 60\n",
    "            timeholder[0] = timeHolder[0] - 1\n",
    "    realFlightTimes[j] = timeHolder\n",
    "\n",
    "offsetTimes = [(flightFileLines[x]).split(',')[1] for x in range(1, len(flightFileLines)-1)]\n",
    "longitudes = [(flightFileLines[x]).split(',')[3] for x in range(1, len(flightFileLines)-1)]\n",
    "latitudes = [(flightFileLines[x]).split(',')[4] for x in range(1, len(flightFileLines)-1)]\n",
    "altitudes = [(flightFileLines[x]).split(',')[10] for x in range(1, len(flightFileLines)-1)]\n",
    "\n",
    "startSecond = 60*60*realFlightTimes[0][0] + 60*realFlightTimes[0][1] + realFlightTimes[0][2]\n",
    "endSecond = 60*60*realFlightTimes[1][0] + 60*realFlightTimes[1][1] + realFlightTimes[1][2]\n",
    "#initialOffsetTime = offsetTimes[missStartLine]\n",
    "zerothRealTime = startSecond - (float(offsetTimes[missStartLine-1]) - float(offsetTimes[0]))\n",
    "\n",
    "with open(directory+'jpgFlightFileScript2.csv', 'w') as outputFlightFile:\n",
    "    firstRow = \"Mission Start Line\" + \",\" + str(missStartLine) + \",\" + \"Mission End Line\" + \",\" + str(missEndLine) + \"\\n\"\n",
    "    outputFlightFile.write(firstRow)\n",
    "    secondRow = \"Seconds\" + \",\" + \"Longitude\" + \",\" + \"Latitude\" + \",\" + \"Altitude\" + \"\\n\"\n",
    "    outputFlightFile.write(secondRow)\n",
    "    for i in range(0, len(flightFileLines)-2):  #I took out the +/- 20 buffer here, maybe erroneously\n",
    "        timeInSeconds = float(offsetTimes[i]) - float(offsetTimes[0]) + zerothRealTime\n",
    "        row =  str(timeInSeconds) + \",\" + longitudes[i] + \",\" + latitudes[i] + \",\" + altitudes[i] + \"\\n\"\n",
    "        outputFlightFile.write(row)\n",
    "\n",
    "print(\"All done :)\")"
   ]
  },
  {
   "cell_type": "code",
   "execution_count": null,
   "metadata": {
    "collapsed": true
   },
   "outputs": [],
   "source": []
  },
  {
   "cell_type": "code",
   "execution_count": 37,
   "metadata": {
    "collapsed": false
   },
   "outputs": [
    {
     "name": "stdout",
     "output_type": "stream",
     "text": [
      "(63653, \"doesn't match any of our records, sorry\")\n",
      "[916, 1004, 1063, 1122, 1181, 1239, 1298, 1386, 1445, 1504, 1592, 1680, 1856, 1914, 1973, 2032, 2149, 2207, 2266, 2324, 2412, 2471, 2529, 2606, 2664, 2753, 2812, 2871, 2930, 2989, 3048, 3107, 3166, 3225, 3284, 3343, 3432, 3491, 3550, 3609, 3668, 3727, 3787, 3875, 3934, 4023, 4082, 4171, 4200, 4259, 4318, 4378, 4437, 4496, 4555, 4614, 4673, 4732, 4791, 4880, 4968, 5057, 5116, 5204, 5293, 5382, 5441, 5529, 5618, 5707, 5766, 5854, 5943, 6002, 6091, 6179, 6268, 6327, 6415, 6504, 6592, 6681, 6740, 6829, 6917, 6976, 7065, 7124, 7212, 7301, 7390, 7449, 7537, 7626, 7715, 7774, 7862, 7951, 8010, 8099, 8187, 8276, 8335, 8424, 8512, 8601, 8660, 8749, 8838, 8897, 8986, 9074, 9163, 9252, 9311, 9399, 9488, 9547, 9636, 9725, 9813, 9872, 9961, 10050, 10109, 10198, 10286, 10345, 10434, 10523, 10582, 10671, 10759, 10848, 10907, 10995, 11084, 11143, 11232, 11320, 11409, 11468, 11557, 11645, 11734, 11793, 11882, 11970, 12029, 12118, 12207, 12266, 12347, 12436, 12524, 12583, 12672, 12761, 12820, 12909, 12997, 13086, 13145, 13234, 13323, 13382, 13470, 13559, 13618, 13707, 13796, 13855, 13944, 14032, 14121, 14180, 14269, 14358, 14417, 14505, 14594, 14683, 14742, 14831, 14919, 15008, 15067, 15156, 15244, 15304, 15392, 15481, 15570, 15629, 15718, 15807, 15895, 15954, 16043, 16132, 16191, 16279, 16368, 16457, 16534, 16593, 16681, 16770, 16859, 16918, 17007, 17096, 17185, 17244, 17332, 17421, 17510, 17598, 17658, 17746, 17835, 17923, 17982, 18071, 18160, 18248, 18308, 18396, 18485, 18574, 18633, 18721, 18810, 18899, 18958, 19046, 19135, 19224, 19283, 19371, 19460, 19548, 19608, 19696, 19785, 19874, 19933, 20022, 20110, 20199, 20288, 20347, 20436, 20524, 20613, 20672, 20760, 20849, 20937, 20996, 21085, 21173, 21262, 21321, 21409, 21498, 21586, 21645, 21734, 21822, 21911, 21970, 22058, 22117, 22206, 22294, 22383, 22471, 22530, 22619, 22707, 22796, 22855, 22943, 23030, 23119, 23177, 23266, 23354, 23413, 23502, 23590, 23679, 23738, 23827, 23915, 24004, 24063, 24152, 24240, 24329, 24388, 24476, 24565, 24624, 24713, 24801, 24890, 24949, 25038, 25126, 25215, 25274, 25358, 25443, 25561, 25650, 25679, 25768, 25915, 25945, 26004, 26093, 26211, 26299, 26358, 26417, 26506, 26565, 26654, 26742, 26831, 26890, 26978, 27067, 27156, 27244, 27304, 27392, 27481, 27569, 27629, 27717, 27806, 27895, 27954, 28131, 28220, 28338, 28397, 28456, 28515, 28574, 28633, 28692, 28811, 28870, 28929, 29047, 29195, 29254, 29313, 29372, 29431, 29520, 29608, 29697, 29786, 29845, 29933, 30022, 30080, 30168, 30257, 30345, 30403, 30492, 30580, 30668, 30756, 30815, 30903, 30991, 31109, 31167, 31226, 31314, 31432, 31550, 31667, None]\n",
      "All done :)\n"
     ]
    }
   ],
   "source": [
    "with open(directory+'jpgFlightFileScript2.csv', 'r') as inputFlightFile:\n",
    "        missionLines = inputFlightFile.read().split(\"\\n\")\n",
    "        \n",
    "with open(directory+'jpgImageTimesFirstScript.csv', 'r') as inputjpgFile:\n",
    "        jpgLines = inputjpgFile.read().split(\"\\n\")\n",
    "        \n",
    "missionSeconds = [float((missionLines[x]).split(',')[0]) for x in range(2, len(missionLines)-1)]\n",
    "intMissionSeconds = [int(missionSeconds[x]) for x in range(len(missionSeconds))]\n",
    "jpgSeconds = [int((jpgLines[x]).split(',')[2]) for x in range(1, len(jpgLines)-1)]\n",
    "longitudes = [(missionLines[x]).split(',')[1] for x in range(2, len(missionLines)-1)]\n",
    "latitudes = [(missionLines[x]).split(',')[2] for x in range(1, len(missionLines)-1)]\n",
    "altitudes = [(missionLines[x]).split(',')[3] for x in range(1, len(missionLines)-1)]\n",
    "jpgImageNames = [(jpgLines[x]).split(',')[0] for x in range(1, len(jpgLines)-1)]\n",
    "\n",
    "cnt = 0\n",
    "matched = 0\n",
    "howManyMatched = -1\n",
    "jpgSecondsLineNum = []\n",
    "\n",
    "#will find 46 in 746 btw so be carfeul!!!!!\n",
    "for sec in jpgSeconds:\n",
    "    cnt = 0\n",
    "    while cnt==0:\n",
    "        try:\n",
    "            jpgSecondsLineNum.append(intMissionSeconds.index(sec))\n",
    "            break\n",
    "        except ValueError:\n",
    "            print(sec, \"doesn't match any of our records, sorry\")\n",
    "            cnt = cnt + 1\n",
    "            jpgSecondsLineNum.append(intMissionSeconds.append(0))            \n",
    "\n",
    "print(jpgSecondsLineNum) \n",
    "    \n",
    "with open(directory+'jpgImageFinalMisisonDataScript3.csv', 'w') as jpgFinalDataFile:\n",
    "    firstRow = \"File Name\" + \",\" + \"Longitude\" + \",\" + \"Latitude\" + \",\" + \"Altitude\" + \"\\n\"\n",
    "    jpgFinalDataFile.write(firstRow)\n",
    "    for i in range(len(jpgSeconds)):\n",
    "        lineNum = jpgSecondsLineNum[i]\n",
    "        if type(lineNum) == int or type(lineNum) == float:\n",
    "            if lineNum >= missStartLine and lineNum <= missEndLine:\n",
    "                row = jpgImageNames[i] + \",\" + longitudes[lineNum] + \",\" + latitudes[lineNum] + \",\" + altitudes[lineNum] + \"\\n\"\n",
    "                jpgFinalDataFile.write(row)\n",
    "            \n",
    "with open(directory+'jpgImageFinalNotMisisonDataScript3.csv', 'w') as jpgFinalDataFile:\n",
    "    firstRow = \"File Name\" + \"\\n\"\n",
    "    jpgFinalDataFile.write(firstRow)\n",
    "    for i in range(len(jpgSeconds)):\n",
    "        lineNum = jpgSecondsLineNum[i]\n",
    "        if type(lineNum) == int or type(lineNum) == float:\n",
    "            if lineNum <= missStartLine or lineNum >= missEndLine:\n",
    "                row = jpgImageNames[i] + \"\\n\"\n",
    "                jpgFinalDataFile.write(row)\n",
    "        if type(lineNum) != int and type(lineNum) != float:\n",
    "            row = jpgImageNames[i] + \"\\n\"\n",
    "            jpgFinalDataFile.write(row)\n",
    "            \n",
    "print(\"All done :)\")"
   ]
  },
  {
   "cell_type": "markdown",
   "metadata": {
    "collapsed": true
   },
   "source": [
    "Now we want to refolder our directory into mission and not mission data"
   ]
  },
  {
   "cell_type": "code",
   "execution_count": 38,
   "metadata": {
    "collapsed": false
   },
   "outputs": [
    {
     "name": "stdout",
     "output_type": "stream",
     "text": [
      "All done :)\n"
     ]
    }
   ],
   "source": [
    "import os\n",
    "\n",
    "jpgHolder = []\n",
    "jpgCounter = 0\n",
    "for file in os.listdir(directory):\n",
    "    if file.endswith(\".jpg\"):\n",
    "        jpgHolder.append(os.path.join(directory, file))\n",
    "        jpgCounter = jpgCounter + 1\n",
    "        \n",
    "arwHolder = []\n",
    "arwCounter = 0\n",
    "for file in os.listdir(directory):\n",
    "    if file.endswith(\".arw\"):\n",
    "        arwHolder.append(os.path.join(directory, file))\n",
    "        arwCounter = arwCounter + 1\n",
    "        \n",
    "newpath1 = directory + 'MissionData/jpg/'  \n",
    "newpath2 = directory + 'NotMissionData/jpg/'\n",
    "newpath3 = directory + 'MissionData/arw/'  \n",
    "newpath4 = directory + 'NotMissionData/arw/' \n",
    "if not os.path.exists(newpath1):\n",
    "    os.makedirs(newpath1)\n",
    "if not os.path.exists(newpath2):\n",
    "    os.makedirs(newpath2)\n",
    "if not os.path.exists(newpath3):\n",
    "    os.makedirs(newpath3)\n",
    "if not os.path.exists(newpath4):\n",
    "    os.makedirs(newpath4)\n",
    "        \n",
    "with open(directory+'jpgImageFinalNotMisisonDataScript3.csv', 'r') as jpgFinalDataFile:\n",
    "    jpgLines = jpgFinalDataFile.read().split(\"\\n\")\n",
    "    jpgImageNames = [(jpgLines[x]).split(',')[0] for x in range(1, len(jpgLines)-1)]\n",
    "    arwImageNames = []\n",
    "    for z in range(len(jpgImageNames)):\n",
    "        arwImageNames.append(jpgImageNames[z][:-3] + \"ARW\")   \n",
    "    tempImage = (jpgImageNames[0]).split('/')\n",
    "    fileLocal = len(tempImage)\n",
    "    jpgImageFileNames = [(jpgImageNames[x]).split('/')[fileLocal-1] for x in range(len(jpgImageNames))]\n",
    "    arwImageFileNames = [(arwImageNames[x]).split('/')[fileLocal-1] for x in range(len(jpgImageNames))]\n",
    "    for i in range(len(jpgImageNames)):\n",
    "        os.rename(jpgImageNames[i],  newpath2 + jpgImageFileNames[i])\n",
    "        os.rename(arwImageNames[i],  newpath4 + arwImageFileNames[i])\n",
    "    \n",
    "with open(directory+'jpgImageFinalMisisonDataScript3.csv', 'r') as jpgFinalDataFile:\n",
    "    jpgLines = jpgFinalDataFile.read().split(\"\\n\")\n",
    "    jpgImageNames = [(jpgLines[x]).split(',')[0] for x in range(1, len(jpgLines)-1)]\n",
    "    arwImageNames = []\n",
    "    for z in range(len(jpgImageNames)):\n",
    "        arwImageNames.append(jpgImageNames[z][:-3] + \"ARW\")\n",
    "    tempImage = (jpgImageNames[0]).split('/')\n",
    "    fileLocal = len(tempImage)\n",
    "    jpgImageFileNames = [(jpgImageNames[x]).split('/')[fileLocal-1] for x in range(len(jpgImageNames))]\n",
    "    arwImageFileNames = [(arwImageNames[x]).split('/')[fileLocal-1] for x in range(len(jpgImageNames))]\n",
    "    for i in range(len(jpgImageNames)):\n",
    "        os.rename(jpgImageNames[i],  newpath1 + jpgImageFileNames[i])\n",
    "        os.rename(arwImageNames[i],  newpath3 + arwImageFileNames[i]) \n",
    "        \n",
    "print(\"All done :)\")"
   ]
  },
  {
   "cell_type": "code",
   "execution_count": null,
   "metadata": {
    "collapsed": true
   },
   "outputs": [],
   "source": []
  }
 ],
 "metadata": {
  "kernelspec": {
   "display_name": "Python [Root]",
   "language": "python",
   "name": "Python [Root]"
  },
  "language_info": {
   "codemirror_mode": {
    "name": "ipython",
    "version": 3
   },
   "file_extension": ".py",
   "mimetype": "text/x-python",
   "name": "python",
   "nbconvert_exporter": "python",
   "pygments_lexer": "ipython3",
   "version": "3.5.2"
  }
 },
 "nbformat": 4,
 "nbformat_minor": 2
}
