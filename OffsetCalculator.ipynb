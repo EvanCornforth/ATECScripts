{
 "cells": [
  {
   "cell_type": "code",
   "execution_count": 79,
   "metadata": {
    "collapsed": false
   },
   "outputs": [
    {
     "name": "stdout",
     "output_type": "stream",
     "text": [
      "Enter the flight log path: C:\\Users\\Evan\\Documents\\PhD\\OffsetTest20171023\\FLY421_timestamp.csv\n",
      "Found a SIMPLE\n",
      "Found a SIMPLE\n",
      "Found a SIMPLE\n",
      "Found a SIMPLE\n",
      "Found a SIMPLE\n",
      "Found a SIMPLE\n",
      "Found a SIMPLE\n",
      "Found a SIMPLE\n",
      "Found a SIMPLE\n",
      "Found a SIMPLE\n",
      "['99.021', '108.889', '118.282', '128.924', '139.022', '149.091', '158.244', '168.317', '178.271', '188.369']\n",
      "['15:07:00']\n",
      "['15:07:00', '15:07:10']\n",
      "['15:07:00', '15:07:10', '15:07:20']\n",
      "['15:07:00', '15:07:10', '15:07:20', '15:07:30']\n",
      "['15:07:00', '15:07:10', '15:07:20', '15:07:30', '15:07:40']\n",
      "['15:07:00', '15:07:10', '15:07:20', '15:07:30', '15:07:40', '15:07:50']\n",
      "['15:07:00', '15:07:10', '15:07:20', '15:07:30', '15:07:40', '15:07:50', '15:08:00']\n",
      "['15:07:00', '15:07:10', '15:07:20', '15:07:30', '15:07:40', '15:07:50', '15:08:00', '15:08:10']\n",
      "['15:07:00', '15:07:10', '15:07:20', '15:07:30', '15:07:40', '15:07:50', '15:08:00', '15:08:10', '15:08:20']\n",
      "['15:07:00', '15:07:10', '15:07:20', '15:07:30', '15:07:40', '15:07:50', '15:08:00', '15:08:10', '15:08:20', '15:08:30']\n",
      "All done :)\n"
     ]
    }
   ],
   "source": [
    "flightLogDirectoryInput = input('Enter the flight log path: ')\n",
    "flightLogDirectory = flightLogDirectoryInput.replace(\"\\\\\", \"/\")\n",
    "\n",
    "import os\n",
    "\n",
    "with open(flightLogDirectory) as flightFile:      \n",
    "    flightFileLines = flightFile.read().split(\"\\n\")\n",
    "    \n",
    "    fullEvents = [(flightFileLines[x]).split(',')[110] for x in range(len(flightFileLines)-1)]\n",
    "    fullFlightTimes = [(flightFileLines[x]).split(',')[1] for x in range(len(flightFileLines)-1)]\n",
    "\n",
    "camShotLine = []\n",
    "#word = 'SUCCESSED SIMPLE_SHOT'\n",
    "word = 'SIMPLE'\n",
    "\n",
    "for i,line in enumerate(flightFileLines):\n",
    "    if word in line: # or word in line.split() to search for full words\n",
    "        camShotLine.append(i)\n",
    "        print(\"Found a\", word)\n",
    "\n",
    "potMatch = len(camShotLine)\n",
    "potMatchLines = [flightFileLines[x] for x in camShotLine]\n",
    "\n",
    "dateWord = '|#SiF%|2'\n",
    "\n",
    "times = []\n",
    "dateLine = []\n",
    "\n",
    "#for y in range(potMatch):\n",
    "#    charDateWord = potMatchLines[y][(potMatchLines[y].find(dateWord)+7):((potMatchLines[y].find(dateWord)+15))]\n",
    "#    if potMatchLines[y].find(charDateWord+\".0\")>1:\n",
    "#        times.append(potMatchLines[y][(potMatchLines[y].find(charDateWord+\".0\")+9):((potMatchLines[y].find(charDateWord+\".0\")+17))])\n",
    "#        dateLine.append(y)\n",
    "#    elif potMatchLines[y].find(charDateWord+\".1\")>1:  \n",
    "#        times.append(potMatchLines[y][(potMatchLines[y].find(charDateWord+\".1\")+9):((potMatchLines[y].find(charDateWord+\".1\")+17))])\n",
    "#        dateLine.append(y)\n",
    "#    elif potMatchLines[y].find(charDateWord+\".2\")>1:\n",
    "#        times.append(potMatchLines[y][(potMatchLines[y].find(charDateWord+\".2\")+9):((potMatchLines[y].find(charDateWord+\".2\")+17))])\n",
    "#        dateLine.append(y)\n",
    "#print(\"Dateline is\", dateLine)\n",
    "\n",
    "flightTimes = [(flightFileLines[x]).split(',')[1] for x in camShotLine]\n",
    "print(flightTimes)\n",
    "events = [(flightFileLines[x]).split(',')[110] for x in camShotLine]\n",
    "\n",
    "for y in range(len(fullEvents)):\n",
    "    #charDateWord = fullEvents[y][(fullEvents[y].find(dateWord)+7):((fullEvents[y].find(dateWord)+15))]\n",
    "    if fullEvents[y].find(dateWord)>1:\n",
    "        num = fullEvents[y].find(dateWord)\n",
    "        times.append(fullEvents[y][(num+16):(num+24)])\n",
    "        print(times)\n",
    "        dateLine.append(y)\n",
    "\n",
    "flightTimeDiffs = [float(val)-float(fullFlightTimes[dateLine[0]]) for val in flightTimes]\n",
    "\n",
    "realFlightTimes = []\n",
    "for j in range(potMatch):\n",
    "    timeHolder = (times[0]).split(':')\n",
    "    for i in range(3):\n",
    "        timeHolder[i] = float(timeHolder[i])\n",
    "    timeHolder[2] = timeHolder[2] + flightTimeDiffs[j]\n",
    "    while timeHolder[2] >= 60:\n",
    "        timeHolder[2] = timeHolder[2] - 60\n",
    "        timeHolder[1] = timeHolder[1] + 1\n",
    "        while timeHolder[1] >= 60:\n",
    "            timeHolder[1] = timeHolder[1] - 60\n",
    "            timeHolder[0] = timeHolder[0] + 1\n",
    "    while timeHolder[2] < 0:\n",
    "        timeHolder[2] = timeHolder[2] + 60\n",
    "        timeHolder[1] = timeHolder[1] - 1\n",
    "        while timeHolder[1] < 0:\n",
    "            timeHolder[1] = timeHolder[1] + 60\n",
    "            timeHolder[0] = timeHolder[0] - 1\n",
    "            \n",
    "    #timeForm = str(timeHolder[0]) + \":\" + str(int(timeHolder[1])) + \":\" + str(timeHolder[2])\n",
    "    timeForm = \"%d : %d : %s\" % (timeHolder[0], timeHolder[1], timeHolder[2]) \n",
    "    realFlightTimes.append(timeForm)\n",
    "\n",
    "with open(flightLogDirectory+'jpgRichardTest.csv', 'w') as outputFlightFile:\n",
    "    firstRow = \"Camera Shot Line\" + \",\" + \"Shot Time\" + \",\" + \"Event\" + \"\\n\"\n",
    "    outputFlightFile.write(firstRow)\n",
    "    for i in range(potMatch):\n",
    "        row =  str(camShotLine[i]) + \",\" + str(realFlightTimes[i]) + \",\" + events[i] + \"\\n\"\n",
    "        outputFlightFile.write(row)\n",
    "\n",
    "print(\"All done :)\")"
   ]
  },
  {
   "cell_type": "markdown",
   "metadata": {},
   "source": [
    "C:\\Users\\Evan\\Documents\\PhD\\Richard_MSc\\Richard_MSc_Data\\120717_log\\FLY201.csv"
   ]
  },
  {
   "cell_type": "code",
   "execution_count": null,
   "metadata": {
    "collapsed": false
   },
   "outputs": [],
   "source": [
    "C:\\Users\\Evan\\Documents\\PhD\\OffsetTest20171023\\FLY421_timestamp.csv"
   ]
  },
  {
   "cell_type": "code",
   "execution_count": null,
   "metadata": {
    "collapsed": true
   },
   "outputs": [],
   "source": []
  }
 ],
 "metadata": {
  "kernelspec": {
   "display_name": "Python [Root]",
   "language": "python",
   "name": "Python [Root]"
  },
  "language_info": {
   "codemirror_mode": {
    "name": "ipython",
    "version": 3
   },
   "file_extension": ".py",
   "mimetype": "text/x-python",
   "name": "python",
   "nbconvert_exporter": "python",
   "pygments_lexer": "ipython3",
   "version": "3.5.2"
  }
 },
 "nbformat": 4,
 "nbformat_minor": 2
}
